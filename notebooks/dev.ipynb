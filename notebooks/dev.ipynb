{
 "cells": [
  {
   "cell_type": "code",
   "execution_count": 1,
   "metadata": {
    "ExecuteTime": {
     "end_time": "2018-06-08T03:41:19.163902Z",
     "start_time": "2018-06-08T03:41:19.009696Z"
    }
   },
   "outputs": [],
   "source": [
    "from lammpythonic import MyLammps"
   ]
  },
  {
   "cell_type": "markdown",
   "metadata": {},
   "source": [
    "## Run zero step"
   ]
  },
  {
   "cell_type": "code",
   "execution_count": 2,
   "metadata": {
    "ExecuteTime": {
     "end_time": "2018-06-08T03:41:41.364130Z",
     "start_time": "2018-06-08T03:41:41.328436Z"
    }
   },
   "outputs": [
    {
     "name": "stdout",
     "output_type": "stream",
     "text": [
      "LAMMPS output is captured by PyLammps wrapper\n"
     ]
    }
   ],
   "source": [
    "L = MyLammps(name=\"open\", mode=\"runzero\")"
   ]
  },
  {
   "cell_type": "code",
   "execution_count": 3,
   "metadata": {
    "ExecuteTime": {
     "end_time": "2018-06-08T03:41:43.340225Z",
     "start_time": "2018-06-08T03:41:43.332578Z"
    }
   },
   "outputs": [],
   "source": [
    "step = 100\n",
    "nx = 20\n",
    "ny = 20\n",
    "nz = 20"
   ]
  },
  {
   "cell_type": "code",
   "execution_count": 4,
   "metadata": {
    "ExecuteTime": {
     "end_time": "2018-06-08T03:41:46.337675Z",
     "start_time": "2018-06-08T03:41:46.329306Z"
    }
   },
   "outputs": [],
   "source": [
    "L.units(\"lj\")"
   ]
  },
  {
   "cell_type": "code",
   "execution_count": 5,
   "metadata": {
    "ExecuteTime": {
     "end_time": "2018-06-08T03:41:46.988054Z",
     "start_time": "2018-06-08T03:41:46.977148Z"
    }
   },
   "outputs": [],
   "source": [
    "L.atom_style(\"atomic\")"
   ]
  },
  {
   "cell_type": "code",
   "execution_count": 6,
   "metadata": {
    "ExecuteTime": {
     "end_time": "2018-06-08T03:41:48.220039Z",
     "start_time": "2018-06-08T03:41:48.200428Z"
    }
   },
   "outputs": [
    {
     "data": {
      "text/plain": [
       "'Lattice spacing in x,y,z = 1.6796 1.6796 1.6796'"
      ]
     },
     "execution_count": 6,
     "metadata": {},
     "output_type": "execute_result"
    }
   ],
   "source": [
    "L.lattice(\"fcc\", 0.8442)"
   ]
  },
  {
   "cell_type": "code",
   "execution_count": 7,
   "metadata": {
    "ExecuteTime": {
     "end_time": "2018-06-08T03:41:52.827739Z",
     "start_time": "2018-06-08T03:41:52.822681Z"
    }
   },
   "outputs": [],
   "source": [
    "L.region(1, \"block\", 0, nx, 0, ny, 0, nz)"
   ]
  },
  {
   "cell_type": "code",
   "execution_count": 8,
   "metadata": {
    "ExecuteTime": {
     "end_time": "2018-06-08T03:41:54.339769Z",
     "start_time": "2018-06-08T03:41:54.331696Z"
    }
   },
   "outputs": [
    {
     "data": {
      "text/plain": [
       "['Created orthogonal box = (0 0 0) to (33.5919 33.5919 33.5919)',\n",
       " '  1 by 1 by 1 MPI processor grid']"
      ]
     },
     "execution_count": 8,
     "metadata": {},
     "output_type": "execute_result"
    }
   ],
   "source": [
    "L.create_box(1, 1)"
   ]
  },
  {
   "cell_type": "code",
   "execution_count": 9,
   "metadata": {
    "ExecuteTime": {
     "end_time": "2018-06-08T03:44:41.850317Z",
     "start_time": "2018-06-08T03:44:41.835457Z"
    }
   },
   "outputs": [
    {
     "data": {
      "text/plain": [
       "['Created 32000 atoms', '  Time spent = 0.0034852 secs']"
      ]
     },
     "execution_count": 9,
     "metadata": {},
     "output_type": "execute_result"
    }
   ],
   "source": [
    "L.create_atoms(1, \"box\")"
   ]
  },
  {
   "cell_type": "code",
   "execution_count": 10,
   "metadata": {
    "ExecuteTime": {
     "end_time": "2018-06-08T03:45:01.902787Z",
     "start_time": "2018-06-08T03:45:01.896975Z"
    }
   },
   "outputs": [],
   "source": [
    "L.mass(1, 1.0)"
   ]
  },
  {
   "cell_type": "code",
   "execution_count": 11,
   "metadata": {
    "ExecuteTime": {
     "end_time": "2018-06-08T03:45:34.459911Z",
     "start_time": "2018-06-08T03:45:34.444367Z"
    }
   },
   "outputs": [],
   "source": [
    "L.velocity(\"all\", \"create\", 1.44, 87287, \"loop\", \"geom\")"
   ]
  },
  {
   "cell_type": "code",
   "execution_count": 12,
   "metadata": {
    "ExecuteTime": {
     "end_time": "2018-06-08T03:45:56.921223Z",
     "start_time": "2018-06-08T03:45:56.916842Z"
    }
   },
   "outputs": [],
   "source": [
    "L.pair_style(\"lj/cut\", 2.5)"
   ]
  },
  {
   "cell_type": "code",
   "execution_count": 13,
   "metadata": {
    "ExecuteTime": {
     "end_time": "2018-06-08T03:46:08.917671Z",
     "start_time": "2018-06-08T03:46:08.907537Z"
    }
   },
   "outputs": [],
   "source": [
    "L.pair_coeff(1, 1, 1.0, 1.0, 2.5)"
   ]
  },
  {
   "cell_type": "code",
   "execution_count": 14,
   "metadata": {
    "ExecuteTime": {
     "end_time": "2018-06-08T03:46:27.935240Z",
     "start_time": "2018-06-08T03:46:27.924640Z"
    }
   },
   "outputs": [],
   "source": [
    "L.neighbor(0.3, \"bin\")"
   ]
  },
  {
   "cell_type": "code",
   "execution_count": 15,
   "metadata": {
    "ExecuteTime": {
     "end_time": "2018-06-08T03:46:45.154057Z",
     "start_time": "2018-06-08T03:46:45.148254Z"
    }
   },
   "outputs": [],
   "source": [
    "L.neigh_modify(\"delay\", 0, \"every\", 20, \"check\", \"no\")"
   ]
  },
  {
   "cell_type": "code",
   "execution_count": 16,
   "metadata": {
    "ExecuteTime": {
     "end_time": "2018-06-08T03:47:07.271454Z",
     "start_time": "2018-06-08T03:47:07.266864Z"
    }
   },
   "outputs": [],
   "source": [
    "L.fix(1, \"all\", \"nve\")"
   ]
  },
  {
   "cell_type": "code",
   "execution_count": 17,
   "metadata": {
    "ExecuteTime": {
     "end_time": "2018-06-08T03:47:40.264074Z",
     "start_time": "2018-06-08T03:47:40.135596Z"
    }
   },
   "outputs": [
    {
     "data": {
      "text/plain": [
       "['Neighbor list info ...',\n",
       " '  update every 20 steps, delay 0 steps, check no',\n",
       " '  max neighbors/atom: 2000, page size: 100000',\n",
       " '  master list distance cutoff = 2.8',\n",
       " '  ghost atom cutoff = 2.8',\n",
       " '  binsize = 1.4, bins = 24 24 24',\n",
       " '  1 neighbor lists, perpetual/occasional/extra = 1 0 0',\n",
       " '  (1) pair lj/cut, perpetual',\n",
       " '      attributes: half, newton on',\n",
       " '      pair build: half/bin/atomonly/newton',\n",
       " '      stencil: half/bin/3d/newton',\n",
       " '      bin: standard',\n",
       " 'Setting up Verlet run ...',\n",
       " '  Unit style    : lj',\n",
       " '  Current step  : 0',\n",
       " '  Time step     : 0.005',\n",
       " 'Per MPI rank memory allocation (min/avg/max) = 13.82 | 13.82 | 13.82 Mbytes',\n",
       " 'Step Temp E_pair E_mol TotEng Press ',\n",
       " '       0         1.44   -6.7733681            0   -4.6134356   -5.0197073 ',\n",
       " 'Loop time of 7.6e-06 on 1 procs for 0 steps with 32000 atoms',\n",
       " '',\n",
       " '0.0% CPU use with 1 MPI tasks x 1 OpenMP threads',\n",
       " '',\n",
       " 'MPI task timing breakdown:',\n",
       " 'Section |  min time  |  avg time  |  max time  |%varavg| %total',\n",
       " '---------------------------------------------------------------',\n",
       " 'Pair    | 0          | 0          | 0          |   0.0 |  0.00',\n",
       " 'Neigh   | 0          | 0          | 0          |   0.0 |  0.00',\n",
       " 'Comm    | 0          | 0          | 0          |   0.0 |  0.00',\n",
       " 'Output  | 0          | 0          | 0          |   0.0 |  0.00',\n",
       " 'Modify  | 0          | 0          | 0          |   0.0 |  0.00',\n",
       " 'Other   |            | 7.6e-06    |            |       |100.00',\n",
       " '',\n",
       " 'Nlocal:    32000 ave 32000 max 32000 min',\n",
       " 'Histogram: 1 0 0 0 0 0 0 0 0 0',\n",
       " 'Nghost:    19911 ave 19911 max 19911 min',\n",
       " 'Histogram: 1 0 0 0 0 0 0 0 0 0',\n",
       " 'Neighs:    1.248e+06 ave 1.248e+06 max 1.248e+06 min',\n",
       " 'Histogram: 1 0 0 0 0 0 0 0 0 0',\n",
       " '',\n",
       " 'Total # of neighbors = 1248000',\n",
       " 'Ave neighs/atom = 39',\n",
       " 'Neighbor list builds = 0',\n",
       " 'Dangerous builds not checked']"
      ]
     },
     "execution_count": 17,
     "metadata": {},
     "output_type": "execute_result"
    }
   ],
   "source": [
    "L.run(step)"
   ]
  },
  {
   "cell_type": "markdown",
   "metadata": {},
   "source": [
    "## Do not capture standard output"
   ]
  },
  {
   "cell_type": "code",
   "execution_count": 2,
   "metadata": {},
   "outputs": [
    {
     "name": "stdout",
     "output_type": "stream",
     "text": [
      "LAMMPS output is captured by PyLammps wrapper\n"
     ]
    }
   ],
   "source": [
    "L = MyLammps(name=\"open\")"
   ]
  },
  {
   "cell_type": "code",
   "execution_count": 3,
   "metadata": {},
   "outputs": [],
   "source": [
    "step = 100\n",
    "nx = 20\n",
    "ny = 20\n",
    "nz = 20"
   ]
  },
  {
   "cell_type": "code",
   "execution_count": 4,
   "metadata": {
    "ExecuteTime": {
     "end_time": "2018-06-08T03:41:46.337675Z",
     "start_time": "2018-06-08T03:41:46.329306Z"
    }
   },
   "outputs": [],
   "source": [
    "L.units(\"lj\")"
   ]
  },
  {
   "cell_type": "code",
   "execution_count": 5,
   "metadata": {
    "ExecuteTime": {
     "end_time": "2018-06-08T03:41:46.988054Z",
     "start_time": "2018-06-08T03:41:46.977148Z"
    }
   },
   "outputs": [],
   "source": [
    "L.atom_style(\"atomic\")"
   ]
  },
  {
   "cell_type": "code",
   "execution_count": 6,
   "metadata": {
    "ExecuteTime": {
     "end_time": "2018-06-08T03:41:48.220039Z",
     "start_time": "2018-06-08T03:41:48.200428Z"
    }
   },
   "outputs": [],
   "source": [
    "L.lattice(\"fcc\", 0.8442)"
   ]
  },
  {
   "cell_type": "code",
   "execution_count": 7,
   "metadata": {
    "ExecuteTime": {
     "end_time": "2018-06-08T03:41:52.827739Z",
     "start_time": "2018-06-08T03:41:52.822681Z"
    }
   },
   "outputs": [],
   "source": [
    "L.region(1, \"block\", 0, nx, 0, ny, 0, nz)"
   ]
  },
  {
   "cell_type": "code",
   "execution_count": 8,
   "metadata": {
    "ExecuteTime": {
     "end_time": "2018-06-08T03:41:54.339769Z",
     "start_time": "2018-06-08T03:41:54.331696Z"
    }
   },
   "outputs": [],
   "source": [
    "L.create_box(1, 1)"
   ]
  },
  {
   "cell_type": "code",
   "execution_count": 9,
   "metadata": {
    "ExecuteTime": {
     "end_time": "2018-06-08T03:44:41.850317Z",
     "start_time": "2018-06-08T03:44:41.835457Z"
    }
   },
   "outputs": [],
   "source": [
    "L.create_atoms(1, \"box\")"
   ]
  },
  {
   "cell_type": "code",
   "execution_count": 10,
   "metadata": {
    "ExecuteTime": {
     "end_time": "2018-06-08T03:45:01.902787Z",
     "start_time": "2018-06-08T03:45:01.896975Z"
    }
   },
   "outputs": [],
   "source": [
    "L.mass(1, 1.0)"
   ]
  },
  {
   "cell_type": "code",
   "execution_count": 11,
   "metadata": {
    "ExecuteTime": {
     "end_time": "2018-06-08T03:45:34.459911Z",
     "start_time": "2018-06-08T03:45:34.444367Z"
    }
   },
   "outputs": [],
   "source": [
    "L.velocity(\"all\", \"create\", 1.44, 87287, \"loop\", \"geom\")"
   ]
  },
  {
   "cell_type": "code",
   "execution_count": 12,
   "metadata": {
    "ExecuteTime": {
     "end_time": "2018-06-08T03:45:56.921223Z",
     "start_time": "2018-06-08T03:45:56.916842Z"
    }
   },
   "outputs": [],
   "source": [
    "L.pair_style(\"lj/cut\", 2.5)"
   ]
  },
  {
   "cell_type": "code",
   "execution_count": 13,
   "metadata": {
    "ExecuteTime": {
     "end_time": "2018-06-08T03:46:08.917671Z",
     "start_time": "2018-06-08T03:46:08.907537Z"
    }
   },
   "outputs": [],
   "source": [
    "L.pair_coeff(1, 1, 1.0, 1.0, 2.5)"
   ]
  },
  {
   "cell_type": "code",
   "execution_count": 14,
   "metadata": {
    "ExecuteTime": {
     "end_time": "2018-06-08T03:46:27.935240Z",
     "start_time": "2018-06-08T03:46:27.924640Z"
    }
   },
   "outputs": [],
   "source": [
    "L.neighbor(0.3, \"bin\")"
   ]
  },
  {
   "cell_type": "code",
   "execution_count": 15,
   "metadata": {
    "ExecuteTime": {
     "end_time": "2018-06-08T03:46:45.154057Z",
     "start_time": "2018-06-08T03:46:45.148254Z"
    }
   },
   "outputs": [],
   "source": [
    "L.neigh_modify(\"delay\", 0, \"every\", 20, \"check\", \"no\")"
   ]
  },
  {
   "cell_type": "code",
   "execution_count": 16,
   "metadata": {
    "ExecuteTime": {
     "end_time": "2018-06-08T03:47:07.271454Z",
     "start_time": "2018-06-08T03:47:07.266864Z"
    }
   },
   "outputs": [],
   "source": [
    "L.fix(1, \"all\", \"nve\")"
   ]
  },
  {
   "cell_type": "code",
   "execution_count": 17,
   "metadata": {
    "ExecuteTime": {
     "end_time": "2018-06-08T03:47:40.264074Z",
     "start_time": "2018-06-08T03:47:40.135596Z"
    }
   },
   "outputs": [],
   "source": [
    "L.run(step)"
   ]
  },
  {
   "cell_type": "code",
   "execution_count": null,
   "metadata": {},
   "outputs": [],
   "source": []
  }
 ],
 "metadata": {
  "kernelspec": {
   "display_name": "Python 3",
   "language": "python",
   "name": "python3"
  },
  "language_info": {
   "codemirror_mode": {
    "name": "ipython",
    "version": 3
   },
   "file_extension": ".py",
   "mimetype": "text/x-python",
   "name": "python",
   "nbconvert_exporter": "python",
   "pygments_lexer": "ipython3",
   "version": "3.6.5"
  },
  "toc": {
   "base_numbering": 1,
   "nav_menu": {},
   "number_sections": true,
   "sideBar": true,
   "skip_h1_title": true,
   "title_cell": "Table of Contents",
   "title_sidebar": "Contents",
   "toc_cell": false,
   "toc_position": {},
   "toc_section_display": true,
   "toc_window_display": false
  }
 },
 "nbformat": 4,
 "nbformat_minor": 2
}
